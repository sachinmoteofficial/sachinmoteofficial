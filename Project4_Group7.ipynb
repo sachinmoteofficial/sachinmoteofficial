{
 "cells": [
  {
   "cell_type": "markdown",
   "id": "6c15daab",
   "metadata": {},
   "source": [
    "CS504\n",
    "Project 4\n",
    "Group 7\n",
    "Members: Vishveshwar Rao, Sachin Mote, Harshith Reddy"
   ]
  },
  {
   "cell_type": "markdown",
   "id": "a67fcbe7",
   "metadata": {},
   "source": [
    "Importing the necessary libraries required for the project"
   ]
  },
  {
   "cell_type": "code",
   "execution_count": 30,
   "id": "b1626954",
   "metadata": {
    "scrolled": true
   },
   "outputs": [],
   "source": [
    "import pandas as pd\n",
    "import numpy as np\n",
    "import matplotlib.pyplot as plt\n",
    "from sklearn.model_selection import train_test_split\n",
    "from sklearn.preprocessing import LabelEncoder\n",
    "from sklearn.preprocessing import OneHotEncoder\n",
    "from sklearn.preprocessing import normalize\n",
    "from sklearn.feature_selection import SelectKBest\n",
    "from sklearn.feature_selection import f_classif\n",
    "from sklearn.compose import ColumnTransformer\n",
    "from sklearn.model_selection import cross_val_score\n",
    "from sklearn import tree\n",
    "from sklearn.ensemble import RandomForestClassifier\n",
    "from sklearn.neighbors import KNeighborsClassifier\n",
    "from sklearn.naive_bayes import GaussianNB\n",
    "from sklearn.naive_bayes import MultinomialNB\n",
    "from sklearn.metrics import accuracy_score\n",
    "import statistics as st"
   ]
  },
  {
   "cell_type": "markdown",
   "id": "d714d6f2",
   "metadata": {},
   "source": [
    "Reading data and checking Null values"
   ]
  },
  {
   "cell_type": "code",
   "execution_count": 32,
   "id": "897afdbe",
   "metadata": {},
   "outputs": [
    {
     "data": {
      "text/plain": [
       "(4521, 17)"
      ]
     },
     "execution_count": 32,
     "metadata": {},
     "output_type": "execute_result"
    }
   ],
   "source": [
    "bank_df=pd.read_csv(r'C:\\Users\\sachi\\Downloads\\bank.csv',delimiter=';')\n",
    "features=bank_df.columns\n",
    "\n",
    "bank_df.shape"
   ]
  },
  {
   "cell_type": "markdown",
   "id": "252d2131",
   "metadata": {},
   "source": [
    "No Null Values in the data"
   ]
  },
  {
   "cell_type": "code",
   "execution_count": 33,
   "id": "f127ce8a",
   "metadata": {},
   "outputs": [
    {
     "name": "stdout",
     "output_type": "stream",
     "text": [
      "<class 'pandas.core.frame.DataFrame'>\n",
      "RangeIndex: 4521 entries, 0 to 4520\n",
      "Data columns (total 17 columns):\n",
      " #   Column     Non-Null Count  Dtype \n",
      "---  ------     --------------  ----- \n",
      " 0   age        4521 non-null   int64 \n",
      " 1   job        4521 non-null   object\n",
      " 2   marital    4521 non-null   object\n",
      " 3   education  4521 non-null   object\n",
      " 4   default    4521 non-null   object\n",
      " 5   balance    4521 non-null   int64 \n",
      " 6   housing    4521 non-null   object\n",
      " 7   loan       4521 non-null   object\n",
      " 8   contact    4521 non-null   object\n",
      " 9   day        4521 non-null   int64 \n",
      " 10  month      4521 non-null   object\n",
      " 11  duration   4521 non-null   int64 \n",
      " 12  campaign   4521 non-null   int64 \n",
      " 13  pdays      4521 non-null   int64 \n",
      " 14  previous   4521 non-null   int64 \n",
      " 15  poutcome   4521 non-null   object\n",
      " 16  y          4521 non-null   object\n",
      "dtypes: int64(7), object(10)\n",
      "memory usage: 600.6+ KB\n"
     ]
    }
   ],
   "source": [
    "bank_df.info()"
   ]
  },
  {
   "cell_type": "markdown",
   "id": "5681b854",
   "metadata": {},
   "source": [
    "Describing data"
   ]
  },
  {
   "cell_type": "code",
   "execution_count": 34,
   "id": "5b3d5b6f",
   "metadata": {},
   "outputs": [
    {
     "data": {
      "text/html": [
       "<div>\n",
       "<style scoped>\n",
       "    .dataframe tbody tr th:only-of-type {\n",
       "        vertical-align: middle;\n",
       "    }\n",
       "\n",
       "    .dataframe tbody tr th {\n",
       "        vertical-align: top;\n",
       "    }\n",
       "\n",
       "    .dataframe thead th {\n",
       "        text-align: right;\n",
       "    }\n",
       "</style>\n",
       "<table border=\"1\" class=\"dataframe\">\n",
       "  <thead>\n",
       "    <tr style=\"text-align: right;\">\n",
       "      <th></th>\n",
       "      <th>age</th>\n",
       "      <th>balance</th>\n",
       "      <th>day</th>\n",
       "      <th>duration</th>\n",
       "      <th>campaign</th>\n",
       "      <th>pdays</th>\n",
       "      <th>previous</th>\n",
       "    </tr>\n",
       "  </thead>\n",
       "  <tbody>\n",
       "    <tr>\n",
       "      <th>count</th>\n",
       "      <td>4521.000000</td>\n",
       "      <td>4521.000000</td>\n",
       "      <td>4521.000000</td>\n",
       "      <td>4521.000000</td>\n",
       "      <td>4521.000000</td>\n",
       "      <td>4521.000000</td>\n",
       "      <td>4521.000000</td>\n",
       "    </tr>\n",
       "    <tr>\n",
       "      <th>mean</th>\n",
       "      <td>41.170095</td>\n",
       "      <td>1422.657819</td>\n",
       "      <td>15.915284</td>\n",
       "      <td>263.961292</td>\n",
       "      <td>2.793630</td>\n",
       "      <td>39.766645</td>\n",
       "      <td>0.542579</td>\n",
       "    </tr>\n",
       "    <tr>\n",
       "      <th>std</th>\n",
       "      <td>10.576211</td>\n",
       "      <td>3009.638142</td>\n",
       "      <td>8.247667</td>\n",
       "      <td>259.856633</td>\n",
       "      <td>3.109807</td>\n",
       "      <td>100.121124</td>\n",
       "      <td>1.693562</td>\n",
       "    </tr>\n",
       "    <tr>\n",
       "      <th>min</th>\n",
       "      <td>19.000000</td>\n",
       "      <td>-3313.000000</td>\n",
       "      <td>1.000000</td>\n",
       "      <td>4.000000</td>\n",
       "      <td>1.000000</td>\n",
       "      <td>-1.000000</td>\n",
       "      <td>0.000000</td>\n",
       "    </tr>\n",
       "    <tr>\n",
       "      <th>25%</th>\n",
       "      <td>33.000000</td>\n",
       "      <td>69.000000</td>\n",
       "      <td>9.000000</td>\n",
       "      <td>104.000000</td>\n",
       "      <td>1.000000</td>\n",
       "      <td>-1.000000</td>\n",
       "      <td>0.000000</td>\n",
       "    </tr>\n",
       "    <tr>\n",
       "      <th>50%</th>\n",
       "      <td>39.000000</td>\n",
       "      <td>444.000000</td>\n",
       "      <td>16.000000</td>\n",
       "      <td>185.000000</td>\n",
       "      <td>2.000000</td>\n",
       "      <td>-1.000000</td>\n",
       "      <td>0.000000</td>\n",
       "    </tr>\n",
       "    <tr>\n",
       "      <th>75%</th>\n",
       "      <td>49.000000</td>\n",
       "      <td>1480.000000</td>\n",
       "      <td>21.000000</td>\n",
       "      <td>329.000000</td>\n",
       "      <td>3.000000</td>\n",
       "      <td>-1.000000</td>\n",
       "      <td>0.000000</td>\n",
       "    </tr>\n",
       "    <tr>\n",
       "      <th>max</th>\n",
       "      <td>87.000000</td>\n",
       "      <td>71188.000000</td>\n",
       "      <td>31.000000</td>\n",
       "      <td>3025.000000</td>\n",
       "      <td>50.000000</td>\n",
       "      <td>871.000000</td>\n",
       "      <td>25.000000</td>\n",
       "    </tr>\n",
       "  </tbody>\n",
       "</table>\n",
       "</div>"
      ],
      "text/plain": [
       "               age       balance          day     duration     campaign  \\\n",
       "count  4521.000000   4521.000000  4521.000000  4521.000000  4521.000000   \n",
       "mean     41.170095   1422.657819    15.915284   263.961292     2.793630   \n",
       "std      10.576211   3009.638142     8.247667   259.856633     3.109807   \n",
       "min      19.000000  -3313.000000     1.000000     4.000000     1.000000   \n",
       "25%      33.000000     69.000000     9.000000   104.000000     1.000000   \n",
       "50%      39.000000    444.000000    16.000000   185.000000     2.000000   \n",
       "75%      49.000000   1480.000000    21.000000   329.000000     3.000000   \n",
       "max      87.000000  71188.000000    31.000000  3025.000000    50.000000   \n",
       "\n",
       "             pdays     previous  \n",
       "count  4521.000000  4521.000000  \n",
       "mean     39.766645     0.542579  \n",
       "std     100.121124     1.693562  \n",
       "min      -1.000000     0.000000  \n",
       "25%      -1.000000     0.000000  \n",
       "50%      -1.000000     0.000000  \n",
       "75%      -1.000000     0.000000  \n",
       "max     871.000000    25.000000  "
      ]
     },
     "execution_count": 34,
     "metadata": {},
     "output_type": "execute_result"
    }
   ],
   "source": [
    "bank_df.describe()"
   ]
  },
  {
   "cell_type": "markdown",
   "id": "bf1c18a0",
   "metadata": {},
   "source": [
    "Describing the data including the categorical data "
   ]
  },
  {
   "cell_type": "code",
   "execution_count": 35,
   "id": "2d223233",
   "metadata": {},
   "outputs": [
    {
     "data": {
      "text/html": [
       "<div>\n",
       "<style scoped>\n",
       "    .dataframe tbody tr th:only-of-type {\n",
       "        vertical-align: middle;\n",
       "    }\n",
       "\n",
       "    .dataframe tbody tr th {\n",
       "        vertical-align: top;\n",
       "    }\n",
       "\n",
       "    .dataframe thead th {\n",
       "        text-align: right;\n",
       "    }\n",
       "</style>\n",
       "<table border=\"1\" class=\"dataframe\">\n",
       "  <thead>\n",
       "    <tr style=\"text-align: right;\">\n",
       "      <th></th>\n",
       "      <th>job</th>\n",
       "      <th>marital</th>\n",
       "      <th>education</th>\n",
       "      <th>default</th>\n",
       "      <th>housing</th>\n",
       "      <th>loan</th>\n",
       "      <th>contact</th>\n",
       "      <th>month</th>\n",
       "      <th>poutcome</th>\n",
       "      <th>y</th>\n",
       "    </tr>\n",
       "  </thead>\n",
       "  <tbody>\n",
       "    <tr>\n",
       "      <th>count</th>\n",
       "      <td>4521</td>\n",
       "      <td>4521</td>\n",
       "      <td>4521</td>\n",
       "      <td>4521</td>\n",
       "      <td>4521</td>\n",
       "      <td>4521</td>\n",
       "      <td>4521</td>\n",
       "      <td>4521</td>\n",
       "      <td>4521</td>\n",
       "      <td>4521</td>\n",
       "    </tr>\n",
       "    <tr>\n",
       "      <th>unique</th>\n",
       "      <td>12</td>\n",
       "      <td>3</td>\n",
       "      <td>4</td>\n",
       "      <td>2</td>\n",
       "      <td>2</td>\n",
       "      <td>2</td>\n",
       "      <td>3</td>\n",
       "      <td>12</td>\n",
       "      <td>4</td>\n",
       "      <td>2</td>\n",
       "    </tr>\n",
       "    <tr>\n",
       "      <th>top</th>\n",
       "      <td>management</td>\n",
       "      <td>married</td>\n",
       "      <td>secondary</td>\n",
       "      <td>no</td>\n",
       "      <td>yes</td>\n",
       "      <td>no</td>\n",
       "      <td>cellular</td>\n",
       "      <td>may</td>\n",
       "      <td>unknown</td>\n",
       "      <td>no</td>\n",
       "    </tr>\n",
       "    <tr>\n",
       "      <th>freq</th>\n",
       "      <td>969</td>\n",
       "      <td>2797</td>\n",
       "      <td>2306</td>\n",
       "      <td>4445</td>\n",
       "      <td>2559</td>\n",
       "      <td>3830</td>\n",
       "      <td>2896</td>\n",
       "      <td>1398</td>\n",
       "      <td>3705</td>\n",
       "      <td>4000</td>\n",
       "    </tr>\n",
       "  </tbody>\n",
       "</table>\n",
       "</div>"
      ],
      "text/plain": [
       "               job  marital  education default housing  loan   contact month  \\\n",
       "count         4521     4521       4521    4521    4521  4521      4521  4521   \n",
       "unique          12        3          4       2       2     2         3    12   \n",
       "top     management  married  secondary      no     yes    no  cellular   may   \n",
       "freq           969     2797       2306    4445    2559  3830      2896  1398   \n",
       "\n",
       "       poutcome     y  \n",
       "count      4521  4521  \n",
       "unique        4     2  \n",
       "top     unknown    no  \n",
       "freq       3705  4000  "
      ]
     },
     "execution_count": 35,
     "metadata": {},
     "output_type": "execute_result"
    }
   ],
   "source": [
    "bank_df.describe(include=object)"
   ]
  },
  {
   "cell_type": "markdown",
   "id": "a3fc30cf",
   "metadata": {},
   "source": [
    "Checking counts of the response variable (y column is the response variable)"
   ]
  },
  {
   "cell_type": "code",
   "execution_count": 36,
   "id": "4b731c0e",
   "metadata": {
    "scrolled": true
   },
   "outputs": [
    {
     "data": {
      "text/plain": [
       "no     4000\n",
       "yes     521\n",
       "Name: y, dtype: int64"
      ]
     },
     "execution_count": 36,
     "metadata": {},
     "output_type": "execute_result"
    }
   ],
   "source": [
    "bank_df['y'].value_counts()"
   ]
  },
  {
   "cell_type": "markdown",
   "id": "2b42b8f7",
   "metadata": {},
   "source": [
    "Checking null values"
   ]
  },
  {
   "cell_type": "code",
   "execution_count": 38,
   "id": "5b85ac93",
   "metadata": {},
   "outputs": [
    {
     "data": {
      "text/plain": [
       "age          0\n",
       "job          0\n",
       "marital      0\n",
       "education    0\n",
       "default      0\n",
       "balance      0\n",
       "housing      0\n",
       "loan         0\n",
       "contact      0\n",
       "day          0\n",
       "month        0\n",
       "duration     0\n",
       "campaign     0\n",
       "pdays        0\n",
       "previous     0\n",
       "poutcome     0\n",
       "y            0\n",
       "dtype: int64"
      ]
     },
     "execution_count": 38,
     "metadata": {},
     "output_type": "execute_result"
    }
   ],
   "source": [
    "bank_df.isnull().sum()"
   ]
  },
  {
   "cell_type": "markdown",
   "id": "3bc45272",
   "metadata": {},
   "source": [
    "Transforming categorical to numerical values using LabelEncoder function"
   ]
  },
  {
   "cell_type": "code",
   "execution_count": 39,
   "id": "c2e03bbc",
   "metadata": {
    "scrolled": true
   },
   "outputs": [
    {
     "name": "stdout",
     "output_type": "stream",
     "text": [
      "      age  job  marital  education  default  balance  housing  loan  contact  \\\n",
      "0      30   10        1          0        0     1787        0     0        0   \n",
      "1      33    7        1          1        0     4789        1     1        0   \n",
      "2      35    4        2          2        0     1350        1     0        0   \n",
      "3      30    4        1          2        0     1476        1     1        2   \n",
      "4      59    1        1          1        0        0        1     0        2   \n",
      "...   ...  ...      ...        ...      ...      ...      ...   ...      ...   \n",
      "4516   33    7        1          1        0     -333        1     0        0   \n",
      "4517   57    6        1          2        1    -3313        1     1        2   \n",
      "4518   57    9        1          1        0      295        0     0        0   \n",
      "4519   28    1        1          1        0     1137        0     0        0   \n",
      "4520   44    2        2          2        0     1136        1     1        0   \n",
      "\n",
      "      day  month  duration  campaign  pdays  previous  poutcome  y  \n",
      "0      19     10        79         1     -1         0         3  0  \n",
      "1      11      8       220         1    339         4         0  0  \n",
      "2      16      0       185         1    330         1         0  0  \n",
      "3       3      6       199         4     -1         0         3  0  \n",
      "4       5      8       226         1     -1         0         3  0  \n",
      "...   ...    ...       ...       ...    ...       ...       ... ..  \n",
      "4516   30      5       329         5     -1         0         3  0  \n",
      "4517    9      8       153         1     -1         0         3  0  \n",
      "4518   19      1       151        11     -1         0         3  0  \n",
      "4519    6      3       129         4    211         3         1  0  \n",
      "4520    3      0       345         2    249         7         1  0  \n",
      "\n",
      "[4521 rows x 17 columns]\n"
     ]
    }
   ],
   "source": [
    "#Using LabelEncoder...\n",
    "data=bank_df.copy()\n",
    "\n",
    "le_obj=LabelEncoder()\n",
    "\n",
    "data.job=le_obj.fit_transform(data.job)\n",
    "data.marital=le_obj.fit_transform(data.marital)\n",
    "data.education=le_obj.fit_transform(data.education)\n",
    "data.default=le_obj.fit_transform(data.default)\n",
    "data.housing=le_obj.fit_transform(data.housing)\n",
    "data.loan=le_obj.fit_transform(data.loan)\n",
    "data.contact=le_obj.fit_transform(data.contact)\n",
    "data.month=le_obj.fit_transform(data.month)\n",
    "data.poutcome=le_obj.fit_transform(data.poutcome)\n",
    "\n",
    "data.y=le_obj.fit_transform(data.y)\n",
    "print(data)"
   ]
  },
  {
   "cell_type": "markdown",
   "id": "afa477c6",
   "metadata": {},
   "source": [
    "Data Normalisation using Min and Max values and Splitting the data into training and testing data."
   ]
  },
  {
   "cell_type": "code",
   "execution_count": 40,
   "id": "6a6b4905",
   "metadata": {
    "scrolled": true
   },
   "outputs": [
    {
     "name": "stdout",
     "output_type": "stream",
     "text": [
      "[[0.04487188 0.04460343 0.04448262 ... 0.04448262 0.04445578 0.0444692 ]\n",
      " [0.04491215 0.04456316 0.04448262 ... 0.04448262 0.04901948 0.04452289]\n",
      " [0.04493899 0.04452289 0.04449605 ... 0.04448262 0.04889867 0.04448262]\n",
      " ...\n",
      " [0.04523429 0.04459001 0.04448262 ... 0.04461685 0.04445578 0.0444692 ]\n",
      " [0.04484504 0.04448262 0.04448262 ... 0.04452289 0.04730138 0.04450947]\n",
      " [0.0450598  0.04449605 0.04449605 ... 0.04449605 0.04781144 0.04456316]]\n"
     ]
    }
   ],
   "source": [
    "#Using ColumnTransformer...\n",
    "dataset=data.values\n",
    "X = dataset[:,0:15] #features\n",
    "y = dataset[:,16] #response\n",
    "\n",
    "#Normalization...\n",
    "X = (X - np.min(X)) / (np.max(X) - np.min(X))\n",
    "print(X)\n",
    "\n",
    "#Split...\n",
    "X_train, X_test, y_train, y_test = train_test_split(X, y, test_size=0.25, random_state=10)"
   ]
  },
  {
   "cell_type": "markdown",
   "id": "096fcc3a",
   "metadata": {},
   "source": [
    "Feature selection usinf SelectKBest function."
   ]
  },
  {
   "cell_type": "code",
   "execution_count": 41,
   "id": "fa42455a",
   "metadata": {},
   "outputs": [
    {
     "name": "stdout",
     "output_type": "stream",
     "text": [
      "Feature 0: 4.958839\n",
      "Feature 1: 0.535927\n",
      "Feature 2: 0.056736\n",
      "Feature 3: 6.318238\n",
      "Feature 4: 0.016698\n",
      "Feature 5: 0.102734\n",
      "Feature 6: 32.173637\n",
      "Feature 7: 15.636245\n",
      "Feature 8: 67.735857\n",
      "Feature 9: 0.918195\n",
      "Feature 10: 7.674686\n",
      "Feature 11: 616.781195\n",
      "Feature 12: 13.781887\n",
      "Feature 13: 29.896941\n",
      "Feature 14: 47.210185\n"
     ]
    }
   ],
   "source": [
    "#ANOVA f-test Feature Selection...\n",
    "\n",
    "fs = SelectKBest(score_func=f_classif, k=8) # configure to select 8 features\n",
    "fs.fit(X_train, y_train) # learn relationship from training data\n",
    "X_train_fs = fs.transform(X_train) # transform train input data\n",
    "X_test_fs = fs.transform(X_test) # transform test input data\n",
    "\n",
    "for i in range(len(fs.scores_)):\n",
    "\tprint('Feature %d: %f' % (i, fs.scores_[i]))"
   ]
  },
  {
   "cell_type": "markdown",
   "id": "eef1e30d",
   "metadata": {},
   "source": [
    "Decision Tree Model With accuracy 87%\n",
    "Using the 10-fold cross validation we found the mean accurancy to be 86.52"
   ]
  },
  {
   "cell_type": "code",
   "execution_count": 42,
   "id": "4a5ca365",
   "metadata": {},
   "outputs": [
    {
     "name": "stdout",
     "output_type": "stream",
     "text": [
      "Accuracy: 86.21\n",
      "[0.85651214 0.85619469 0.8539823  0.87168142 0.88495575 0.87831858\n",
      " 0.86504425 0.87389381 0.86725664 0.84955752]\n",
      "0.8666256422278225\n"
     ]
    }
   ],
   "source": [
    "model=tree.DecisionTreeClassifier()\n",
    "\n",
    "model.fit(X_train_fs,y_train)\n",
    "\n",
    "yhat = model.predict(X_test_fs) #evaluate the model\n",
    "accuracy = accuracy_score(y_test, yhat) #evaluate predictions\n",
    "print('Accuracy: %.2f' % (accuracy*100))\n",
    "\n",
    "print(cross_val_score(model,X,y,cv=10))\n",
    "print(st.mean(cross_val_score(model,X,y,cv=10)))"
   ]
  },
  {
   "cell_type": "markdown",
   "id": "a25172fc",
   "metadata": {},
   "source": [
    "Random ForestClassifier Model with accuracy 89%\n",
    "Using the 10-fold cross validation we found the mean accurancy to be 89.55%"
   ]
  },
  {
   "cell_type": "code",
   "execution_count": 43,
   "id": "92e756c6",
   "metadata": {},
   "outputs": [
    {
     "name": "stdout",
     "output_type": "stream",
     "text": [
      "Accuracy: 88.77\n",
      "[0.89403974 0.89380531 0.87610619 0.88495575 0.89823009 0.8960177\n",
      " 0.88495575 0.91371681 0.89380531 0.90044248]\n",
      "0.8949354353474379\n"
     ]
    }
   ],
   "source": [
    "model=RandomForestClassifier()\n",
    "\n",
    "model.fit(X_train_fs,y_train)\n",
    "\n",
    "yhat = model.predict(X_test_fs) \n",
    "accuracy = accuracy_score(y_test, yhat) \n",
    "print('Accuracy: %.2f' % (accuracy*100))\n",
    "\n",
    "print(cross_val_score(model,X,y,cv=10))\n",
    "print(st.mean(cross_val_score(model,X,y,cv=10)))"
   ]
  },
  {
   "cell_type": "markdown",
   "id": "7ca0e512",
   "metadata": {},
   "source": [
    "K Nearest Neighbor Model with accuracy with 90%\n",
    "Using the 10-fold cross validation we found the mean accurancy to be 88.07%"
   ]
  },
  {
   "cell_type": "code",
   "execution_count": 44,
   "id": "98efb681",
   "metadata": {},
   "outputs": [
    {
     "name": "stdout",
     "output_type": "stream",
     "text": [
      "Accuracy: 89.30\n",
      "[0.88300221 0.88053097 0.86725664 0.88274336 0.87389381 0.88938053\n",
      " 0.88495575 0.88938053 0.87831858 0.87831858]\n",
      "0.8807780968567466\n"
     ]
    }
   ],
   "source": [
    "model=KNeighborsClassifier(n_neighbors=10)\n",
    "\n",
    "model.fit(X_train_fs,y_train)\n",
    "\n",
    "yhat = model.predict(X_test_fs)\n",
    "accuracy = accuracy_score(y_test, yhat)\n",
    "print('Accuracy: %.2f' % (accuracy*100))\n",
    "\n",
    "print(cross_val_score(model,X,y,cv=10))\n",
    "print(st.mean(cross_val_score(model,X,y,cv=10)))"
   ]
  },
  {
   "cell_type": "markdown",
   "id": "3a87ad0f",
   "metadata": {},
   "source": [
    "We get maximum accuracy for 41 cluster model with accuracy to be 89.12%"
   ]
  },
  {
   "cell_type": "code",
   "execution_count": 45,
   "id": "6514feca",
   "metadata": {},
   "outputs": [
    {
     "name": "stdout",
     "output_type": "stream",
     "text": [
      "1 0.8532272325375774\n",
      "2 0.8762157382847038\n",
      "3 0.870026525198939\n",
      "4 0.883289124668435\n",
      "5 0.8841732979664014\n",
      "6 0.8903625110521662\n",
      "7 0.8903625110521662\n",
      "8 0.8912466843501327\n",
      "9 0.8956675508399646\n",
      "10 0.8930150309460654\n",
      "11 0.8938992042440318\n",
      "12 0.8824049513704686\n",
      "13 0.8903625110521662\n",
      "14 0.887709991158267\n",
      "15 0.8912466843501327\n",
      "16 0.8912466843501327\n",
      "17 0.887709991158267\n",
      "18 0.8885941644562334\n",
      "19 0.887709991158267\n",
      "20 0.8903625110521662\n",
      "21 0.8903625110521662\n",
      "22 0.8912466843501327\n",
      "23 0.8894783377541998\n",
      "24 0.8885941644562334\n",
      "25 0.887709991158267\n",
      "26 0.8903625110521662\n",
      "27 0.8903625110521662\n",
      "28 0.8930150309460654\n",
      "29 0.8921308576480991\n",
      "30 0.8956675508399646\n",
      "31 0.8903625110521662\n",
      "32 0.8912466843501327\n",
      "33 0.8912466843501327\n",
      "34 0.8930150309460654\n",
      "35 0.8903625110521662\n",
      "36 0.8912466843501327\n",
      "37 0.8921308576480991\n",
      "38 0.8938992042440318\n",
      "39 0.8921308576480991\n",
      "40 0.8894783377541998\n",
      "41 0.8912466843501327\n",
      "42 0.8894783377541998\n",
      "43 0.8885941644562334\n",
      "44 0.887709991158267\n",
      "45 0.8903625110521662\n",
      "46 0.8894783377541998\n",
      "47 0.8903625110521662\n",
      "48 0.8930150309460654\n",
      "49 0.8930150309460654\n",
      "50 0.8912466843501327\n"
     ]
    }
   ],
   "source": [
    "score_list={}\n",
    "\n",
    "for k in range(1,51):\n",
    "    temp_model=KNeighborsClassifier(n_neighbors=k)\n",
    "    temp_model.fit(X_train_fs,y_train)\n",
    "    score_list[k]=temp_model.score(X_test_fs,y_test)\n",
    "    print(k,score_list[k])    "
   ]
  },
  {
   "cell_type": "markdown",
   "id": "df771552",
   "metadata": {},
   "source": [
    "Gaussian Model with accuracy with 85.39%\n",
    "Using the 10-fold cross validation we found the mean accurancy to be 85.24%"
   ]
  },
  {
   "cell_type": "code",
   "execution_count": 46,
   "id": "13b0c567",
   "metadata": {},
   "outputs": [
    {
     "name": "stdout",
     "output_type": "stream",
     "text": [
      "Accuracy: 84.70\n",
      "[0.84326711 0.82964602 0.84513274 0.86061947 0.84513274 0.88716814\n",
      " 0.84292035 0.86504425 0.86061947 0.84513274]\n",
      "0.852468303737131\n"
     ]
    }
   ],
   "source": [
    "model=GaussianNB()\n",
    "\n",
    "model.fit(X_train_fs,y_train)\n",
    "\n",
    "yhat = model.predict(X_test_fs)\n",
    "accuracy = accuracy_score(y_test, yhat)\n",
    "print('Accuracy: %.2f' % (accuracy*100))\n",
    "\n",
    "print(cross_val_score(model,X,y,cv=10))\n",
    "print(st.mean(cross_val_score(model,X,y,cv=10)))"
   ]
  },
  {
   "cell_type": "markdown",
   "id": "3931ceed",
   "metadata": {},
   "source": [
    "Multinomial NB  Model with accuracy with 88.51%\n",
    "Using the 10-fold cross validation we found the mean accurancy to be 88.47%"
   ]
  },
  {
   "cell_type": "code",
   "execution_count": 29,
   "id": "72012c0e",
   "metadata": {},
   "outputs": [
    {
     "name": "stdout",
     "output_type": "stream",
     "text": [
      "Accuracy: 88.51\n",
      "[0.88300221 0.88495575 0.88495575 0.88495575 0.88495575 0.88495575\n",
      " 0.88495575 0.88495575 0.88495575 0.88495575]\n",
      "0.8847603977417023\n"
     ]
    }
   ],
   "source": [
    "model=MultinomialNB()\n",
    "\n",
    "model.fit(X_train_fs,y_train)\n",
    "\n",
    "yhat = model.predict(X_test_fs)\n",
    "accuracy = accuracy_score(y_test, yhat)\n",
    "print('Accuracy: %.2f' % (accuracy*100))\n",
    "\n",
    "print(cross_val_score(model,X,y,cv=10))\n",
    "print(st.mean(cross_val_score(model,X,y,cv=10)))"
   ]
  },
  {
   "cell_type": "markdown",
   "id": "f611b094",
   "metadata": {},
   "source": [
    "Comparison Between GaussianNB Model and MultinomialNB:\n",
    "    MultinomialNB is performing better with 88.51% accuracy \n",
    "    GaussianNB is having 85.39% accuracy"
   ]
  },
  {
   "cell_type": "markdown",
   "id": "63229fa4",
   "metadata": {},
   "source": [
    "Conclusion:\n",
    "Out of all the models used, we get K Nearest Neighbor Model with accuracy with 90% as the best model."
   ]
  }
 ],
 "metadata": {
  "kernelspec": {
   "display_name": "Python 3 (ipykernel)",
   "language": "python",
   "name": "python3"
  },
  "language_info": {
   "codemirror_mode": {
    "name": "ipython",
    "version": 3
   },
   "file_extension": ".py",
   "mimetype": "text/x-python",
   "name": "python",
   "nbconvert_exporter": "python",
   "pygments_lexer": "ipython3",
   "version": "3.9.7"
  }
 },
 "nbformat": 4,
 "nbformat_minor": 5
}
